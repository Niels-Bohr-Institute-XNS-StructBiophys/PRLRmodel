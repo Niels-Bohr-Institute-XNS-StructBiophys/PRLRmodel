{
 "cells": [
  {
   "cell_type": "markdown",
   "metadata": {},
   "source": [
    "## Generation of 2D PIP2 density maps from DX files obtained using Volmap ##\n",
    "This script was used to generate the 2D density maps shown in the manuscript.\n",
    "The script takes the dx files obtained from the simulations using the Volmap tool of VMD that \n",
    "contain the average density of the PO4 bead of the PIP2 lipids and generates a 2D map that shows the density as \n",
    "an enrichment score with values representing the percentage of enrichment or depletion with respect to the average value on the system."
   ]
  },
  {
   "cell_type": "code",
   "execution_count": null,
   "metadata": {},
   "outputs": [],
   "source": [
    "#%matplotlib inline\n",
    "#%config InlineBackend.figure_format='retina'\n",
    "import sys \n",
    "import os \n",
    "import glob\n",
    "import numpy as np\n",
    "import matplotlib\n",
    "import matplotlib.gridspec as gridspec\n",
    "from matplotlib import pyplot as plt\n",
    "from matplotlib import cm\n",
    "from matplotlib import colors\n",
    "from matplotlib.ticker import PercentFormatter\n",
    "import matplotlib.ticker as ticker\n",
    "from pylab import *\n",
    "import matplotlib.ticker as ticker\n",
    "from matplotlib.ticker import NullFormatter\n",
    "from mpl_toolkits.axes_grid1 import make_axes_locatable\n",
    "from gridData import Grid \n",
    "from io import StringIO\n",
    "\n",
    "##Figure fonts and other params ##\n",
    "hfont = {'fontname':'Helvetica'}\n",
    "mpl.rcParams['figure.dpi'] =300\n",
    "mpl.rcParams.update({'font.size': 16})\n",
    "\n",
    "\n",
    "    \n"
   ]
  },
  {
   "cell_type": "code",
   "execution_count": null,
   "metadata": {},
   "outputs": [],
   "source": [
    "## Import all the DX files from measurements of PIP2 densities ##\n",
    "\n",
    "gs3=[]\n",
    "name3=[]\n",
    "dirs3 = sorted(glob.glob('*PIP2*po4.dx'))\n",
    "print(dirs3)\n",
    "for num1, file in enumerate(dirs3):\n",
    "    gs3.append(Grid(file))\n",
    "    name3.append(file.split('/')[-1])"
   ]
  },
  {
   "cell_type": "code",
   "execution_count": null,
   "metadata": {},
   "outputs": [],
   "source": [
    "## Generate 2D density maps ##\n",
    "\n",
    "#norm = cm.colors.Normalize(vmax=350)\n",
    "#norm = cm.colors.LogNorm()\n",
    "levels = np.linspace(-150, 300, 10)\n",
    "plt.figure(figsize = (10,10) )\n",
    "\n",
    "for i in range(4):  \n",
    "    fname=name3[i]\n",
    "    plt.subplot(3,2,i+1)\n",
    "    grid = gs3[i].grid\n",
    "    sum_vec = np.sum(grid, axis=2)\n",
    "    sum_avg2 = np.mean(sum_vec)\n",
    "    print (sum_avg2)\n",
    "    rot = np.rot90(sum_vec)    \n",
    "    cf = plt.contourf((((rot/sum_avg2)-1)*100), levels = levels, origin='upper', cmap = 'coolwarm', extend='max')\n",
    "    plt.colorbar(cf)\n",
    "     \n",
    "\n",
    "plt.tight_layout()    \n",
    "plt.savefig(\"PRLR_LID_PIP2_dens_percentage.pdf\", dpi=300)\n",
    "plt.show()"
   ]
  }
 ],
 "metadata": {
  "kernelspec": {
   "display_name": "Python 3 (ipykernel)",
   "language": "python",
   "name": "python3"
  },
  "language_info": {
   "codemirror_mode": {
    "name": "ipython",
    "version": 3
   },
   "file_extension": ".py",
   "mimetype": "text/x-python",
   "name": "python",
   "nbconvert_exporter": "python",
   "pygments_lexer": "ipython3",
   "version": "3.9.6"
  },
  "orig_nbformat": 4
 },
 "nbformat": 4,
 "nbformat_minor": 2
}
